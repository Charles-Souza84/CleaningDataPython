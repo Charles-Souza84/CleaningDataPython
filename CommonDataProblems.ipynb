{
 "cells": [
  {
   "attachments": {},
   "cell_type": "markdown",
   "metadata": {},
   "source": [
    "# Dados numéricos ou categóricos\n",
    "\n",
    "Nesta etapa será utilizado o arquivo <code>ride_sharing_new.csv</code> para algumas análises sobre seu conteúdo. Como informação adicional, temos que a coluna <code>user_type</code> pode assumir três valores distintos :\n",
    "* 1 - ciclista con gratuidade;\n",
    "* 2 - ciclista que paga por corrida;\n",
    "* 3 - inscrito mensal;"
   ]
  },
  {
   "cell_type": "code",
   "execution_count": 4,
   "metadata": {},
   "outputs": [
    {
     "name": "stdout",
     "output_type": "stream",
     "text": [
      "<class 'pandas.core.frame.DataFrame'>\n",
      "RangeIndex: 25760 entries, 0 to 25759\n",
      "Data columns (total 10 columns):\n",
      " #   Column           Non-Null Count  Dtype \n",
      "---  ------           --------------  ----- \n",
      " 0   Unnamed: 0       25760 non-null  int64 \n",
      " 1   duration         25760 non-null  object\n",
      " 2   station_A_id     25760 non-null  int64 \n",
      " 3   station_A_name   25760 non-null  object\n",
      " 4   station_B_id     25760 non-null  int64 \n",
      " 5   station_B_name   25760 non-null  object\n",
      " 6   bike_id          25760 non-null  int64 \n",
      " 7   user_type        25760 non-null  int64 \n",
      " 8   user_birth_year  25760 non-null  int64 \n",
      " 9   user_gender      25760 non-null  object\n",
      "dtypes: int64(6), object(4)\n",
      "memory usage: 2.0+ MB\n",
      "None\n",
      "count    25760.000000\n",
      "mean         2.008385\n",
      "std          0.704541\n",
      "min          1.000000\n",
      "25%          2.000000\n",
      "50%          2.000000\n",
      "75%          3.000000\n",
      "max          3.000000\n",
      "Name: user_type, dtype: float64\n",
      "count     25760\n",
      "unique        3\n",
      "top           2\n",
      "freq      12972\n",
      "Name: user_type_cat, dtype: int64\n"
     ]
    }
   ],
   "source": [
    "# importando Pandas\n",
    "import pandas as pd\n",
    "\n",
    "# carregando o arquivo 'ride_sharing_new.csv\n",
    "filename = 'ride_sharing_new.csv'\n",
    "ride_sharing = pd.read_csv(filename)\n",
    "\n",
    "# exibindo informação sobre o dataframe ride_sharing\n",
    "print(ride_sharing.info())\n",
    "\n",
    "# resumo estatístico da coluna user_type \n",
    "# notamos que a coluna user_type é composta por inteiros, mas sabemos que ela é na verdade categórica\n",
    "print(ride_sharing['user_type'].describe())\n",
    "\n",
    "# convertendo user_type de integer para category\n",
    "ride_sharing['user_type_cat'] = ride_sharing['user_type'].astype('category')\n",
    "\n",
    "# confirmando a mudança \n",
    "assert ride_sharing['user_type_cat'].dtype == 'category'\n",
    "\n",
    "# exibindo novo resumo estatístico \n",
    "print(ride_sharing['user_type_cat'].describe())"
   ]
  },
  {
   "attachments": {},
   "cell_type": "markdown",
   "metadata": {},
   "source": [
    "# Somando strings e concatenando números\n",
    "\n",
    "Na etapa anterior observamos que a categoria <code>user_type</code> continha valores do tipo _integer_ enquanto estes deveriam na verdade serem do tipo _category_. Outro problema comum é importar como strings valores que deveriam ser numéricos, fazendo com que operações matemáticas de soma resultem em concatenação de strings e não em saída numérica, por exemplo.\n",
    "\n",
    "Neste etapa trataremos a coluna <code>duration</code>, que contem a duração em minutos mas em uma forma em que não conseguimos realizar operações matemáticas com seus valores."
   ]
  },
  {
   "cell_type": "code",
   "execution_count": 5,
   "metadata": {},
   "outputs": [
    {
     "name": "stdout",
     "output_type": "stream",
     "text": [
      "         duration duration_trim  duration_time\n",
      "0      12 minutes           12              12\n",
      "1      24 minutes           24              24\n",
      "2       8 minutes            8               8\n",
      "3       4 minutes            4               4\n",
      "4      11 minutes           11              11\n",
      "...           ...           ...            ...\n",
      "25755  11 minutes           11              11\n",
      "25756  10 minutes           10              10\n",
      "25757  14 minutes           14              14\n",
      "25758  14 minutes           14              14\n",
      "25759  29 minutes           29              29\n",
      "\n",
      "[25760 rows x 3 columns]\n",
      "11.389052795031056\n"
     ]
    }
   ],
   "source": [
    "# removendo a string 'minutes' da coluna duration\n",
    "ride_sharing['duration_trim'] = ride_sharing['duration'].str.strip('minutes')\n",
    "\n",
    "# convertendo duration para integer\n",
    "ride_sharing['duration_time'] = ride_sharing['duration_trim'].astype('int')\n",
    "\n",
    "# checando a conversão\n",
    "assert ride_sharing['duration_time'].dtype == 'int'\n",
    "\n",
    "# exibindo as colunas criadas e calculando a duração média de corrida \n",
    "print(ride_sharing[['duration','duration_trim','duration_time']])\n",
    "print(ride_sharing['duration_time'].mean())"
   ]
  }
 ],
 "metadata": {
  "kernelspec": {
   "display_name": "Python 3",
   "language": "python",
   "name": "python3"
  },
  "language_info": {
   "codemirror_mode": {
    "name": "ipython",
    "version": 3
   },
   "file_extension": ".py",
   "mimetype": "text/x-python",
   "name": "python",
   "nbconvert_exporter": "python",
   "pygments_lexer": "ipython3",
   "version": "3.10.4"
  },
  "orig_nbformat": 4,
  "vscode": {
   "interpreter": {
    "hash": "a42ccb73e7d9bfdf27e036f1d2b8b681e55fc0743cc5586bc2474d4a60f4b886"
   }
  }
 },
 "nbformat": 4,
 "nbformat_minor": 2
}
