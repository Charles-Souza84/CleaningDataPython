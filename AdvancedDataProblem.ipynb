{
 "cells": [
  {
   "attachments": {},
   "cell_type": "markdown",
   "metadata": {},
   "source": [
    "# Moedas uniformes\n",
    "\n",
    "Será tratado o dataframe <code>banking</code>. Ele contem dados como :\n",
    "\n",
    "* acc_amount - quantidade de dinheiro armazenada nas contas\n",
    "* acc_cur - moeda \n",
    "* inv_amount - quantia investida\n",
    "* accound_opened - data de abertuda da conta\n",
    "* last_transaction - data da última transação realizada\n",
    "\n"
   ]
  },
  {
   "cell_type": "code",
   "execution_count": 19,
   "metadata": {},
   "outputs": [],
   "source": [
    "# importando pandas\n",
    "import pandas as pd\n",
    "\n",
    "# carregando o arquivo csv\n",
    "filename = 'banking_dirty.csv'\n",
    "banking = pd.read_csv(filename)\n",
    "\n",
    "# encontrando valores em euro\n",
    "acct_eu = banking['acct_cur'] == 'euro'\n",
    "\n",
    "# convertendo os valores em euro para dolar\n",
    "banking.loc[acct_eu, 'acct_amount'] = banking.loc[acct_eu, 'acct_amount'] * 1.1\n",
    "\n",
    "# unificando a coluna acct_cur alterando os valores 'euro' por 'dolar'\n",
    "banking.loc[acct_eu, 'acct_cur'] = 'dollar'\n",
    "\n",
    "# checando se dolar é a única moeda presente\n",
    "assert banking['acct_cur'].unique() == 'dollar'"
   ]
  },
  {
   "attachments": {},
   "cell_type": "markdown",
   "metadata": {},
   "source": [
    "# Datas uniformes\n",
    "\n",
    "Como os dados foram consolidados de diversas fontes, é necessário termos certeza que todas as datas estão no mesmo formato. Será tratada a coluna <code>account_opened</code>, sendo convertida para um objeto _datetime_ ."
   ]
  },
  {
   "cell_type": "code",
   "execution_count": 20,
   "metadata": {},
   "outputs": [
    {
     "name": "stdout",
     "output_type": "stream",
     "text": [
      "0    02-09-18\n",
      "1    28-02-19\n",
      "2    25-04-18\n",
      "3    07-11-17\n",
      "4    14-05-18\n",
      "Name: account_opened, dtype: object\n",
      "0     2018\n",
      "1     2019\n",
      "2     2018\n",
      "3     2017\n",
      "4     2018\n",
      "      ... \n",
      "95    2018\n",
      "96    2017\n",
      "97    2017\n",
      "98    2017\n",
      "99    2017\n",
      "Name: acct_year, Length: 100, dtype: object\n"
     ]
    }
   ],
   "source": [
    "# imprimindo o header da coluna account_opend\n",
    "print(banking['account_opened'].head())\n",
    "\n",
    "# convertendo account_opened para datetime\n",
    "banking['account_opened'] = pd.to_datetime(banking['account_opened'],\n",
    "                                           # Infer datetime format\n",
    "                                           infer_datetime_format = True,\n",
    "                                           # Return missing value for error\n",
    "                                           errors = 'coerce') \n",
    "\n",
    "# extraindo o ano de account opened\n",
    "banking['acct_year'] = banking['account_opened'].dt.strftime('%Y')\n",
    "\n",
    "# imprimindo acct_year\n",
    "print(banking['acct_year'])"
   ]
  },
  {
   "attachments": {},
   "cell_type": "markdown",
   "metadata": {},
   "source": [
    "# Como está a integridade dos dados?\n",
    "\n",
    "No dataframe foram inseridas colunas com investimentos em quatro fundos : A, B, C e D. O total destas colunas deve ser o mesmo que o contido em <code>inv_amount</code>. Além disso, é desejado saber como cada perfil de cliente, classificado em faixas etárias, investe. No entanto devemos antes checar se o campo idade está corretamente preenchido."
   ]
  },
  {
   "cell_type": "code",
   "execution_count": 21,
   "metadata": {},
   "outputs": [
    {
     "name": "stdout",
     "output_type": "stream",
     "text": [
      "Number of inconsistent investments:  13\n"
     ]
    }
   ],
   "source": [
    "# armazenando as colunas dos fundos para fazer a soma\n",
    "fund_columns = ['fund_A', 'fund_B', 'fund_C', 'fund_D']\n",
    "\n",
    "# encontrando linhas em que a somafund_columns  == inv_amount\n",
    "inv_equ = banking[fund_columns].sum(axis=1) == banking['inv_amount']\n",
    "\n",
    "# armazenando dados consistentes e inconsistentes\n",
    "consistent_inv = banking[inv_equ]\n",
    "inconsistent_inv = banking[~inv_equ]\n",
    "\n",
    "# imprimindo o número de linhas inconsistentes\n",
    "print(\"Number of inconsistent investments: \", inconsistent_inv.shape[0])\n"
   ]
  },
  {
   "cell_type": "code",
   "execution_count": 22,
   "metadata": {},
   "outputs": [
    {
     "name": "stdout",
     "output_type": "stream",
     "text": [
      "Number of inconsistent ages:  8\n"
     ]
    }
   ],
   "source": [
    "# importando biblioteca datetime\n",
    "import datetime as dt\n",
    "\n",
    "# armazenando a data atual e calculando as idades\n",
    "# como o arquivo utilizado é de 2020, foi subtraído 3 do valor do ano no cálculo de ages_manual\n",
    "today = dt.date.today()\n",
    "banking['birth_date'] = pd.to_datetime(banking['birth_date'])\n",
    "ages_manual = (today.year -3 ) - banking['birth_date'].dt.year\n",
    "\n",
    "# encontrando as linhas em que age column == ages_manual\n",
    "age_equ = banking['Age'] == ages_manual\n",
    "\n",
    "# armazenando dados consistentes e inconsistentes\n",
    "consistent_ages = banking[age_equ]\n",
    "inconsistent_ages = banking[~age_equ]\n",
    "\n",
    "# imprimindo o número de linhas com idades inconsistentes\n",
    "print(\"Number of inconsistent ages: \", inconsistent_ages.shape[0])"
   ]
  }
 ],
 "metadata": {
  "kernelspec": {
   "display_name": "Python 3",
   "language": "python",
   "name": "python3"
  },
  "language_info": {
   "codemirror_mode": {
    "name": "ipython",
    "version": 3
   },
   "file_extension": ".py",
   "mimetype": "text/x-python",
   "name": "python",
   "nbconvert_exporter": "python",
   "pygments_lexer": "ipython3",
   "version": "3.10.4"
  },
  "orig_nbformat": 4,
  "vscode": {
   "interpreter": {
    "hash": "a42ccb73e7d9bfdf27e036f1d2b8b681e55fc0743cc5586bc2474d4a60f4b886"
   }
  }
 },
 "nbformat": 4,
 "nbformat_minor": 2
}
