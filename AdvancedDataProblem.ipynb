{
 "cells": [
  {
   "attachments": {},
   "cell_type": "markdown",
   "metadata": {},
   "source": [
    "# Moedas uniformes\n",
    "\n",
    "Será tratado o dataframe <code>banking</code>. Ele contem dados como :\n",
    "\n",
    "* acc_amount - quantidade de dinheiro armazenada nas contas\n",
    "* acc_cur - moeda \n",
    "* inv_amount - quantia investida\n",
    "* accound_opened - data de abertuda da conta\n",
    "* last_transaction - data da última transação realizada\n",
    "\n"
   ]
  }
 ],
 "metadata": {
  "language_info": {
   "name": "python"
  },
  "orig_nbformat": 4
 },
 "nbformat": 4,
 "nbformat_minor": 2
}
